{
 "cells": [
  {
   "cell_type": "code",
   "execution_count": 1,
   "metadata": {},
   "outputs": [],
   "source": [
    "import sys\n",
    "sys.path.append('D:\\Kaggle\\MyFirstKaggleCompetition\\Data\\pipeline')\n",
    "sys.path.append('D:\\Kaggle\\MyFirstKaggleCompetition\\Data\\pipeline\\\\feature_engineering')\n",
    "from Basic_function import reduce_mem_usage"
   ]
  },
  {
   "cell_type": "code",
   "execution_count": 2,
   "metadata": {
    "scrolled": true
   },
   "outputs": [
    {
     "name": "stdout",
     "output_type": "stream",
     "text": [
      "Memory usage of dataframe is 286.23 MB\n",
      "Memory usage after optimization is: 92.38 MB\n",
      "Decreased by 67.7%\n",
      "Memory usage of dataframe is 45.00 MB\n",
      "Memory usage after optimization is: 14.60 MB\n",
      "Decreased by 67.6%\n",
      "woe categorical analysis.\n",
      "Memory usage of dataframe is 286.23 MB\n",
      "Memory usage after optimization is: 92.38 MB\n",
      "Decreased by 67.7%\n",
      "feature_NAME_CONTRACT_TYPE is finished!\n",
      "feature_CODE_GENDER is finished!\n",
      "feature_FLAG_OWN_CAR is finished!\n",
      "feature_FLAG_OWN_REALTY is finished!\n",
      "feature_NAME_TYPE_SUITE is finished!\n",
      "feature_NAME_INCOME_TYPE is finished!\n",
      "feature_NAME_EDUCATION_TYPE is finished!\n",
      "feature_NAME_FAMILY_STATUS is finished!\n",
      "feature_NAME_HOUSING_TYPE is finished!\n",
      "feature_OCCUPATION_TYPE is finished!\n",
      "feature_WEEKDAY_APPR_PROCESS_START is finished!\n",
      "feature_ORGANIZATION_TYPE is finished!\n",
      "feature_FONDKAPREMONT_MODE is finished!\n",
      "feature_HOUSETYPE_MODE is finished!\n",
      "feature_WALLSMATERIAL_MODE is finished!\n",
      "feature_EMERGENCYSTATE_MODE is finished!\n"
     ]
    },
    {
     "data": {
      "text/plain": [
       "(356255, 160)"
      ]
     },
     "metadata": {},
     "output_type": "display_data"
    }
   ],
   "source": [
    "from application.reading_main import reading_main\n",
    "from application.woe_encoder import woe_encoder\n",
    "from application.application_feature import application_feature\n",
    "main,y_train, y_test = reading_main()\n",
    "main = woe_encoder(main)\n",
    "main = application_feature(main)\n",
    "display(main.shape)"
   ]
  },
  {
   "cell_type": "code",
   "execution_count": 3,
   "metadata": {
    "scrolled": true
   },
   "outputs": [
    {
     "name": "stdout",
     "output_type": "stream",
     "text": [
      "Memory usage of dataframe is 222.62 MB\n",
      "Memory usage after optimization is: 112.95 MB\n",
      "Decreased by 49.3%\n",
      "(356255, 9)\n",
      "bureau missing count - done in 3s\n",
      "(356255, 21)\n",
      "bureau flag variable analysis - done in 1s\n",
      "(356255, 26)\n",
      "bureau amt debt analysis - done in 1s\n",
      "Original Training shape:  (251815, 85)\n",
      "There are 37 columns to remove.\n",
      "Training shape:  (251815, 48)\n",
      "(356255, 73)\n",
      "bureau active status analysis - done in 14s\n",
      "Original Training shape:  (268435, 67)\n",
      "There are 27 columns to remove.\n",
      "Training shape:  (268435, 40)\n",
      "(356255, 112)\n",
      "bureau closed status analysis - done in 9s\n",
      "Memory usage of dataframe is 486.52 MB\n",
      "Memory usage after optimization is: 280.29 MB\n",
      "Decreased by 42.4%\n"
     ]
    },
    {
     "data": {
      "text/plain": [
       "(356255, 271)"
      ]
     },
     "metadata": {},
     "output_type": "display_data"
    }
   ],
   "source": [
    "from bureau.bureau_feature import bureau_feature\n",
    "main = bureau_feature(main)\n",
    "main = reduce_mem_usage(main)\n",
    "display(main.shape)"
   ]
  },
  {
   "cell_type": "code",
   "execution_count": 4,
   "metadata": {
    "scrolled": true
   },
   "outputs": [
    {
     "name": "stdout",
     "output_type": "stream",
     "text": [
      "Memory usage of dataframe is 624.85 MB\n",
      "Memory usage after optimization is: 338.46 MB\n",
      "Decreased by 45.8%\n",
      "Memory usage of dataframe is 222.62 MB\n",
      "Memory usage after optimization is: 112.95 MB\n",
      "Decreased by 49.3%\n",
      "bureau balance missing count - done in 0s\n",
      "Original Training shape:  (305811, 11)\n",
      "There are 6 columns to remove.\n",
      "Training shape:  (305811, 5)\n",
      "bureau balance overdue analysis - done in 3s\n",
      "bureau balance status count - done in 12s\n",
      "Original Training shape:  (356255, 23)\n",
      "There are 3 columns to remove.\n",
      "Training shape:  (356255, 20)\n",
      "Memory usage of dataframe is 331.94 MB\n",
      "Memory usage after optimization is: 293.21 MB\n",
      "Decreased by 11.7%\n"
     ]
    },
    {
     "data": {
      "text/plain": [
       "(356255, 290)"
      ]
     },
     "metadata": {},
     "output_type": "display_data"
    }
   ],
   "source": [
    "from bureau_balance.bureau_balance_feature import bureau_balance_feature\n",
    "main = bureau_balance_feature(main)\n",
    "main = reduce_mem_usage(main)\n",
    "display(main.shape)"
   ]
  },
  {
   "cell_type": "code",
   "execution_count": 5,
   "metadata": {
    "scrolled": true
   },
   "outputs": [
    {
     "name": "stdout",
     "output_type": "stream",
     "text": [
      "Memory usage of dataframe is 673.88 MB\n",
      "Memory usage after optimization is: 289.33 MB\n",
      "Decreased by 57.1%\n",
      "card missing analysis - done in 4s\n",
      "flag variable stat\n",
      "Original Training shape:  (103558, 4)\n",
      "There are 1 columns to remove.\n",
      "Training shape:  (103558, 3)\n",
      "days continous variable stat\n",
      "Original Training shape:  (103558, 16)\n",
      "There are 13 columns to remove.\n",
      "Training shape:  (103558, 3)\n",
      "card overdue analysis - done in 5s\n",
      "Original Training shape:  (103558, 4)\n",
      "There are 0 columns to remove.\n",
      "Training shape:  (103558, 4)\n",
      "card using behavior analysis from the first payment of AMT_PAYMENT_TOTAL_CURRENT\n",
      "Original Training shape:  (71622, 37)\n",
      "There are 30 columns to remove.\n",
      "Training shape:  (71622, 7)\n",
      "card using analysis - done in 7s\n",
      "Original Training shape:  (104307, 138)\n",
      "There are 65 columns to remove.\n",
      "Training shape:  (104307, 73)\n",
      "Original Training shape:  (103558, 439)\n",
      "There are 356 columns to remove.\n",
      "Training shape:  (103558, 83)\n",
      "card all behavior analysis - done in 99s\n",
      "Original Training shape:  (71947, 138)\n",
      "There are 73 columns to remove.\n",
      "Training shape:  (71947, 65)\n",
      "Original Training shape:  (71622, 391)\n",
      "There are 315 columns to remove.\n",
      "Training shape:  (71622, 76)\n",
      "card using behavior analysis from the first payment of AMT_PAYMENT_TOTAL_CURRENT - done in 38s\n",
      "Original Training shape:  (101250, 324)\n",
      "There are 281 columns to remove.\n",
      "Training shape:  (101250, 43)\n",
      "card last two year behavior analysis - done in 32s\n",
      "Original Training shape:  (100347, 324)\n",
      "There are 292 columns to remove.\n",
      "Training shape:  (100347, 32)\n",
      "card last one year behavior analysis - done in 32s\n",
      "Original Training shape:  (356255, 255)\n",
      "There are 73 columns to remove.\n",
      "Training shape:  (356255, 182)\n",
      "Memory usage of dataframe is 660.82 MB\n",
      "Memory usage after optimization is: 486.86 MB\n",
      "Decreased by 26.3%\n"
     ]
    },
    {
     "data": {
      "text/plain": [
       "(356255, 471)"
      ]
     },
     "metadata": {},
     "output_type": "display_data"
    }
   ],
   "source": [
    "from creditcard.card_feature import card_feature\n",
    "main = card_feature(main)\n",
    "main = reduce_mem_usage(main)\n",
    "display(main.shape)"
   ]
  },
  {
   "cell_type": "code",
   "execution_count": null,
   "metadata": {
    "scrolled": true
   },
   "outputs": [
    {
     "name": "stdout",
     "output_type": "stream",
     "text": [
      "Memory usage of dataframe is 830.41 MB\n",
      "Memory usage after optimization is: 311.40 MB\n",
      "Decreased by 62.5%\n",
      "basic stat analysis - done in 16s\n"
     ]
    }
   ],
   "source": [
    "from installment.install_feature import install_feature\n",
    "main = install_feature(main)\n",
    "main = reduce_mem_usage(main)\n",
    "display(main.shape)"
   ]
  },
  {
   "cell_type": "code",
   "execution_count": null,
   "metadata": {
    "scrolled": true
   },
   "outputs": [],
   "source": [
    "from pos_cash.pos_cash_feature import pos_cash_feature\n",
    "main = pos_cash_feature(main)\n",
    "main = reduce_mem_usage(main)\n",
    "display(main.shape)"
   ]
  },
  {
   "cell_type": "code",
   "execution_count": null,
   "metadata": {
    "scrolled": true
   },
   "outputs": [],
   "source": [
    "from previous.previous_feature import previous_feature\n",
    "main = previous_feature(main)\n",
    "main = reduce_mem_usage(main)\n",
    "display(main.shape)"
   ]
  },
  {
   "cell_type": "code",
   "execution_count": null,
   "metadata": {},
   "outputs": [],
   "source": []
  }
 ],
 "metadata": {
  "kernelspec": {
   "display_name": "Python 3",
   "language": "python",
   "name": "python3"
  },
  "language_info": {
   "codemirror_mode": {
    "name": "ipython",
    "version": 3
   },
   "file_extension": ".py",
   "mimetype": "text/x-python",
   "name": "python",
   "nbconvert_exporter": "python",
   "pygments_lexer": "ipython3",
   "version": "3.5.5"
  }
 },
 "nbformat": 4,
 "nbformat_minor": 2
}
